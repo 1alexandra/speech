{
 "cells": [
  {
   "cell_type": "markdown",
   "metadata": {},
   "source": [
    "# Speaker recognition\n",
    "without ML based on https://m.habr.com/ru/post/144491/"
   ]
  },
  {
   "cell_type": "code",
   "execution_count": null,
   "metadata": {},
   "outputs": [],
   "source": [
    "import warnings\n",
    "import os\n",
    "import numpy as np\n",
    "import librosa\n",
    "import librosa.feature\n",
    "import matplotlib.pyplot as plt\n",
    "\n",
    "from sklearn.model_selection import train_test_split\n",
    "from numpy import log, exp\n",
    "from IPython.display import Audio, display\n",
    "\n",
    "warnings.simplefilter('error')\n",
    "warnings.filterwarnings('ignore', category=FutureWarning)\n",
    "%matplotlib inline"
   ]
  },
  {
   "cell_type": "code",
   "execution_count": 1,
   "metadata": {},
   "outputs": [],
   "source": [
    "# загрузка wav-файлов"
   ]
  },
  {
   "cell_type": "code",
   "execution_count": 1,
   "metadata": {},
   "outputs": [],
   "source": [
    "# обработка\n",
    "def extract_mfcc(sound, sampling_rate, shift=32., L=128., mel_coefs=120, mfcc_coefs=12, alpha=0.9, eps=1e-9):\n",
    "    '''\n",
    "    Transfroms a sound wave into a sequence of MFCC coefficients.\n",
    "    :param sound: 1D np.array with sound wave\n",
    "    :param sampling rate: number of points sampled per second\n",
    "    :param shift: difference between starting points of consecutive frames, ms.\n",
    "    :param L: window length, ms.\n",
    "    Returns 2D array of size (frames x mfcc_dim)\n",
    "    '''\n",
    "    #sound = librosa.util.normalize(sound)\n",
    "    mfcc = librosa.feature.mfcc(sound, sampling_rate, \n",
    "                                n_mfcc = mfcc_coefs)\n",
    "    energy = librosa.feature.rms(sound)\n",
    "    mfcc = np.vstack((mfcc,energy))\n",
    "    delta1 = librosa.feature.delta(mfcc)\n",
    "    delta2 = librosa.feature.delta(delta1)\n",
    "    mfcc = np.vstack((mfcc,delta1,delta2))\n",
    "    return mfcc.T"
   ]
  },
  {
   "cell_type": "code",
   "execution_count": null,
   "metadata": {},
   "outputs": [],
   "source": [
    "# кластеризация"
   ]
  }
 ],
 "metadata": {
  "kernelspec": {
   "display_name": "Python 3",
   "language": "python",
   "name": "python3"
  },
  "language_info": {
   "codemirror_mode": {
    "name": "ipython",
    "version": 3
   },
   "file_extension": ".py",
   "mimetype": "text/x-python",
   "name": "python",
   "nbconvert_exporter": "python",
   "pygments_lexer": "ipython3",
   "version": "3.7.0"
  }
 },
 "nbformat": 4,
 "nbformat_minor": 2
}
